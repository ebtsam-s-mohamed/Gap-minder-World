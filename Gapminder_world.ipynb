{
 "cells": [
  {
   "cell_type": "markdown",
   "id": "bb7ea13d",
   "metadata": {},
   "source": [
    "# Gapminder World Analysis"
   ]
  },
  {
   "cell_type": "code",
   "execution_count": null,
   "id": "83b89d4d",
   "metadata": {},
   "outputs": [],
   "source": [
    "import pandas as pd\n",
    "import os\n",
    "import numpy as np\n",
    "%matplotlib inline\n",
    "from matplotlib import pyplot as plt\n",
    "from datetime import datetime\n",
    "import seaborn as sns\n",
    "import csv"
   ]
  },
  {
   "cell_type": "markdown",
   "id": "c1b12602",
   "metadata": {},
   "source": [
    "importing dataframes"
   ]
  },
  {
   "cell_type": "code",
   "execution_count": null,
   "id": "44537639",
   "metadata": {},
   "outputs": [],
   "source": [
    "life_exp = pd.read_csv('life_expectancy_years (1).csv')\n",
    "life_exp.shape"
   ]
  },
  {
   "cell_type": "code",
   "execution_count": null,
   "id": "647d24f1",
   "metadata": {},
   "outputs": [],
   "source": [
    "fertility = pd.read_csv('children_per_woman_total_fertility (1).csv')\n",
    "fertility.shape"
   ]
  },
  {
   "cell_type": "code",
   "execution_count": null,
   "id": "2aed1223",
   "metadata": {},
   "outputs": [],
   "source": [
    "child_mortality = pd.read_csv('child_mortality_0_5_year_olds_dying_per_1000_born (1).csv')\n",
    "child_mortality.shape"
   ]
  },
  {
   "cell_type": "code",
   "execution_count": null,
   "id": "21ea953f",
   "metadata": {},
   "outputs": [],
   "source": [
    "income = pd.read_csv('income_per_person_gdppercapita_ppp_inflation_adjusted (1).csv')\n",
    "income.shape"
   ]
  },
  {
   "cell_type": "code",
   "execution_count": null,
   "id": "1adca276",
   "metadata": {},
   "outputs": [],
   "source": [
    "population = pd.read_csv('population_total (1).csv')\n",
    "population.shape"
   ]
  },
  {
   "cell_type": "code",
   "execution_count": null,
   "id": "86fa23a9",
   "metadata": {},
   "outputs": [],
   "source": [
    "co2_emissions_tonnes_per_person= pd.read_csv('co2_emissions_tonnes_per_person (1).csv')\n",
    "co2_emissions_tonnes_per_person.shape"
   ]
  },
  {
   "cell_type": "markdown",
   "id": "90707850",
   "metadata": {},
   "source": [
    "check for null"
   ]
  },
  {
   "cell_type": "code",
   "execution_count": null,
   "id": "69f6a96f",
   "metadata": {},
   "outputs": [],
   "source": [
    "def check_and_drop(df):\n",
    "    if pd.isna(df).sum().sum():\n",
    "        return df.dropna(axis=0)\n",
    "    return df\n",
    "life_exp = check_and_drop(life_exp)\n",
    "income = check_and_drop(income)\n",
    "population = check_and_drop(population)\n",
    "fertility = check_and_drop(fertility)\n",
    "child_mortality = check_and_drop(child_mortality)\n"
   ]
  },
  {
   "cell_type": "code",
   "execution_count": null,
   "id": "d6600058",
   "metadata": {},
   "outputs": [],
   "source": [
    "# # Merge all the dataframes into a big one\n",
    "# from functools import reduce\n",
    "# df_list = [life_exp, income, population, fertility, child_mortality]\n",
    "\n",
    "# gapminder = reduce(lambda left, right: pd.merge(left, right, on='geo'), df_list)\n",
    "# gapminder.head()"
   ]
  },
  {
   "cell_type": "markdown",
   "id": "7dead06a",
   "metadata": {},
   "source": [
    "exproling the data frames "
   ]
  },
  {
   "cell_type": "code",
   "execution_count": null,
   "id": "fb92204f",
   "metadata": {
    "scrolled": false
   },
   "outputs": [],
   "source": [
    "life_exp.head()"
   ]
  },
  {
   "cell_type": "code",
   "execution_count": null,
   "id": "f7239c2d",
   "metadata": {},
   "outputs": [],
   "source": [
    "fertility.head()"
   ]
  },
  {
   "cell_type": "code",
   "execution_count": null,
   "id": "36923462",
   "metadata": {},
   "outputs": [],
   "source": [
    "child_mortality.head()"
   ]
  },
  {
   "cell_type": "code",
   "execution_count": null,
   "id": "05dc9455",
   "metadata": {},
   "outputs": [],
   "source": [
    "income.head()"
   ]
  },
  {
   "cell_type": "code",
   "execution_count": null,
   "id": "9deecd01",
   "metadata": {},
   "outputs": [],
   "source": [
    "population.head()"
   ]
  },
  {
   "cell_type": "code",
   "execution_count": null,
   "id": "6b7df948",
   "metadata": {},
   "outputs": [],
   "source": [
    "df_testt= co2_emissions_tonnes_per_person.dropna()\n",
    "df_testt.isnull().sum()\n"
   ]
  },
  {
   "cell_type": "code",
   "execution_count": null,
   "id": "23bb72d7",
   "metadata": {},
   "outputs": [],
   "source": [
    "co2_emissions_tonnes_per_person.fillna(method='bfill')"
   ]
  },
  {
   "cell_type": "markdown",
   "id": "980b5784",
   "metadata": {},
   "source": [
    "we gonna reshape these data frames to be merged togetger in one big dataframe"
   ]
  },
  {
   "cell_type": "code",
   "execution_count": null,
   "id": "8ce935b8",
   "metadata": {},
   "outputs": [],
   "source": [
    "life_exp = pd.melt(frame=life_exp,id_vars='country', var_name =\"year\", value_name=\"life_expectancy\")"
   ]
  },
  {
   "cell_type": "code",
   "execution_count": null,
   "id": "33140921",
   "metadata": {},
   "outputs": [],
   "source": [
    "life_exp.head()"
   ]
  },
  {
   "cell_type": "code",
   "execution_count": null,
   "id": "87990809",
   "metadata": {},
   "outputs": [],
   "source": [
    "fertility= pd.melt(frame=fertility,id_vars='country', var_name =\"year\", value_name=\"fertility\")"
   ]
  },
  {
   "cell_type": "code",
   "execution_count": null,
   "id": "636b401e",
   "metadata": {},
   "outputs": [],
   "source": [
    "child_mortality=pd.melt(frame=child_mortality,id_vars='country', var_name =\"year\", value_name=\"child_mortality\")"
   ]
  },
  {
   "cell_type": "code",
   "execution_count": null,
   "id": "5ae377c6",
   "metadata": {},
   "outputs": [],
   "source": [
    "income= pd.melt(frame=income,id_vars='country', var_name =\"year\", value_name=\"income\")"
   ]
  },
  {
   "cell_type": "code",
   "execution_count": null,
   "id": "3c110d23",
   "metadata": {},
   "outputs": [],
   "source": [
    "population = pd.melt(frame=population,id_vars='country', var_name =\"year\", value_name=\"population\")"
   ]
  },
  {
   "cell_type": "code",
   "execution_count": null,
   "id": "00c9afe0",
   "metadata": {},
   "outputs": [],
   "source": [
    "co2_emissions_tonnes_per_person=pd.melt(frame=co2_emissions_tonnes_per_person,id_vars='country', var_name =\"year\", value_name=\"co2_emission_per_person\")"
   ]
  },
  {
   "cell_type": "markdown",
   "id": "7800d2d3",
   "metadata": {},
   "source": [
    "merging data on country column"
   ]
  },
  {
   "cell_type": "code",
   "execution_count": null,
   "id": "c1f5943d",
   "metadata": {},
   "outputs": [],
   "source": [
    "world = pd.merge(life_exp,fertility, on= [\"country\",\"year\"],how='inner')"
   ]
  },
  {
   "cell_type": "code",
   "execution_count": null,
   "id": "ca7a4646",
   "metadata": {},
   "outputs": [],
   "source": [
    "world = pd.merge(world,child_mortality, on =[\"country\",\"year\"],how='inner')"
   ]
  },
  {
   "cell_type": "code",
   "execution_count": null,
   "id": "cf9b40b8",
   "metadata": {},
   "outputs": [],
   "source": [
    "world=pd.merge(world,income,on =[\"country\",\"year\"],how='inner')"
   ]
  },
  {
   "cell_type": "code",
   "execution_count": null,
   "id": "b377cd3f",
   "metadata": {},
   "outputs": [],
   "source": [
    "world=pd.merge(world,population,on =[\"country\",\"year\"],how='inner')"
   ]
  },
  {
   "cell_type": "code",
   "execution_count": null,
   "id": "b21b5273",
   "metadata": {},
   "outputs": [],
   "source": [
    "world=pd.merge(world,co2_emissions_tonnes_per_person,on =[\"country\",\"year\"],how='inner')"
   ]
  },
  {
   "cell_type": "code",
   "execution_count": null,
   "id": "ddcbb6ea",
   "metadata": {},
   "outputs": [],
   "source": [
    "world"
   ]
  },
  {
   "cell_type": "code",
   "execution_count": null,
   "id": "5fc2ebb2",
   "metadata": {},
   "outputs": [],
   "source": [
    "world['co2_emission_per_person'].isnull().sum()"
   ]
  },
  {
   "cell_type": "code",
   "execution_count": null,
   "id": "8967431f",
   "metadata": {},
   "outputs": [],
   "source": [
    "world.info()"
   ]
  },
  {
   "cell_type": "code",
   "execution_count": null,
   "id": "930523b1",
   "metadata": {},
   "outputs": [],
   "source": [
    "world[['co2_emission_per_person']] = world[['co2_emission_per_person']].replace('µ','',regex=True)"
   ]
  },
  {
   "cell_type": "code",
   "execution_count": null,
   "id": "64eb4c6b",
   "metadata": {},
   "outputs": [],
   "source": [
    "world[['co2_emission_per_person']]= world[['co2_emission_per_person']].apply(pd.to_numeric)"
   ]
  },
  {
   "cell_type": "code",
   "execution_count": null,
   "id": "c4d2ef52",
   "metadata": {},
   "outputs": [],
   "source": [
    "#replacing k and m with zeros\n",
    "repl = {'[kK]':'000','[mM]':'000000','[bB]':'000000000'}\n",
    "world[['population','income']]=world[['population','income']].replace(repl, regex=True).apply(pd.to_numeric)"
   ]
  },
  {
   "cell_type": "markdown",
   "id": "bfa1c694",
   "metadata": {},
   "source": [
    "Filling null with the average co2 emission for each country "
   ]
  },
  {
   "cell_type": "code",
   "execution_count": null,
   "id": "67642398",
   "metadata": {},
   "outputs": [],
   "source": [
    "world"
   ]
  },
  {
   "cell_type": "code",
   "execution_count": null,
   "id": "8f08ed25",
   "metadata": {},
   "outputs": [],
   "source": [
    "world['co2_emission_per_person'].fillna(world['co2_emission_per_person'].mean(), inplace=True)\n",
    "world['co2_emission_per_person']"
   ]
  },
  {
   "cell_type": "code",
   "execution_count": null,
   "id": "8c08a790",
   "metadata": {},
   "outputs": [],
   "source": [
    "world.isnull().sum()"
   ]
  },
  {
   "cell_type": "code",
   "execution_count": null,
   "id": "f9729eeb",
   "metadata": {},
   "outputs": [],
   "source": [
    "world.info()\n",
    "world['year']"
   ]
  },
  {
   "cell_type": "markdown",
   "id": "bbb665c3",
   "metadata": {},
   "source": [
    "## EDA "
   ]
  },
  {
   "cell_type": "code",
   "execution_count": null,
   "id": "2ce352cc",
   "metadata": {},
   "outputs": [],
   "source": [
    "world.describe()"
   ]
  },
  {
   "cell_type": "code",
   "execution_count": null,
   "id": "d54d7117",
   "metadata": {},
   "outputs": [],
   "source": [
    "world.corr()"
   ]
  },
  {
   "cell_type": "code",
   "execution_count": null,
   "id": "5855e20a",
   "metadata": {},
   "outputs": [],
   "source": []
  },
  {
   "cell_type": "code",
   "execution_count": null,
   "id": "cd51246a",
   "metadata": {},
   "outputs": [],
   "source": []
  },
  {
   "cell_type": "code",
   "execution_count": null,
   "id": "c263403f",
   "metadata": {},
   "outputs": [],
   "source": []
  },
  {
   "cell_type": "code",
   "execution_count": null,
   "id": "8953cd79",
   "metadata": {},
   "outputs": [],
   "source": []
  },
  {
   "cell_type": "code",
   "execution_count": null,
   "id": "cc18191e",
   "metadata": {},
   "outputs": [],
   "source": []
  }
 ],
 "metadata": {
  "kernelspec": {
   "display_name": "Python 3 (ipykernel)",
   "language": "python",
   "name": "python3"
  },
  "language_info": {
   "codemirror_mode": {
    "name": "ipython",
    "version": 3
   },
   "file_extension": ".py",
   "mimetype": "text/x-python",
   "name": "python",
   "nbconvert_exporter": "python",
   "pygments_lexer": "ipython3",
   "version": "3.7.0"
  }
 },
 "nbformat": 4,
 "nbformat_minor": 5
}
